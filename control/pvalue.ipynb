{
 "cells": [
  {
   "cell_type": "code",
   "execution_count": 12,
   "id": "440271d0",
   "metadata": {},
   "outputs": [],
   "source": [
    "import matplotlib.pyplot as plt\n",
    "import numpy as np\n",
    "import scipy.stats\n",
    "import json\n",
    "import os\n",
    "from scipy.stats import ttest_rel"
   ]
  },
  {
   "cell_type": "code",
   "execution_count": 13,
   "id": "a20a07dd",
   "metadata": {},
   "outputs": [],
   "source": [
    "plt.rcParams['font.sans-serif'] = 'Times New Roman'"
   ]
  },
  {
   "cell_type": "code",
   "execution_count": 14,
   "id": "c86a6a42",
   "metadata": {},
   "outputs": [],
   "source": [
    "def read_json_list(json_file):\n",
    "    if not (os.path.exists(json_file) and os.path.isfile(json_file)):\n",
    "        with open(json_file, 'w') as f:\n",
    "            f.write('[]')\n",
    "    with open(json_file, 'r', encoding='utf-8') as f:\n",
    "        try:\n",
    "            lst = json.load(f)\n",
    "        except:\n",
    "            lst = []\n",
    "    return lst"
   ]
  },
  {
   "cell_type": "code",
   "execution_count": 15,
   "id": "4b3dbdcd",
   "metadata": {},
   "outputs": [],
   "source": [
    "# From classical method\n",
    "angle = read_json_list('./angle.dat')  # Angle\n",
    "dists = read_json_list('./dist.dat')  # Spacing\n",
    "length = read_json_list('./length.dat')  # Density\n",
    "\n",
    "# From Bezier curve\n",
    "curv = read_json_list('./curv.dat') # Curvature\n",
    "num_conn = read_json_list('./num_conn.dat')  # Connected Compnents\n",
    "winding = read_json_list('./winding.dat') # Winding Degree\n",
    "\n",
    "person = 11"
   ]
  },
  {
   "cell_type": "code",
   "execution_count": 16,
   "id": "f84949be",
   "metadata": {},
   "outputs": [],
   "source": [
    "total_winding = [[[]],[[]]]\n",
    "mean_winding = [[[]],[[]]]\n",
    "average_curv = [[[]],[[]]]\n",
    "\n",
    "for i in range(2):    # Type\n",
    "    for j in range(1, len(winding[i])):     # Person\n",
    "        total_winding[i].append([])\n",
    "        mean_winding[i].append([])\n",
    "        for k in range(len(winding[i][j])):      # Character\n",
    "            total_winding[i][j].append(np.sum(winding[i][j][k]))\n",
    "            mean_winding[i][j].append(np.mean(winding[i][j][k]))\n",
    "    for j in range(1, len(curv[i])):\n",
    "        average_curv[i].append([])\n",
    "        for k in range(len(curv[i][j])):\n",
    "            tmp_cur = 0\n",
    "            tmp_len = 0\n",
    "            for l in range(len(curv[i][j][k])):     # Curve\n",
    "                tmp_cur += curv[i][j][k][l][0]\n",
    "                tmp_len += curv[i][j][k][l][1]\n",
    "            average_curv[i][j].append(tmp_cur/tmp_len)"
   ]
  },
  {
   "cell_type": "code",
   "execution_count": 17,
   "id": "81163836",
   "metadata": {
    "scrolled": true
   },
   "outputs": [],
   "source": [
    "all_total_winding = [[],[]]\n",
    "all_mean_winding = [[],[]]\n",
    "all_average_curv = [[],[]]\n",
    "all_num_conn = [[],[]]\n",
    "for i in range(2):\n",
    "    for j in range(1, person+1):\n",
    "        all_total_winding[i] = all_total_winding[i] + total_winding[i][j]\n",
    "        all_mean_winding[i] = all_mean_winding[i] + mean_winding[i][j]\n",
    "        all_average_curv[i] = all_average_curv[i] + average_curv[i][j]\n",
    "        all_num_conn[i] = all_num_conn[i] + num_conn[i][j]"
   ]
  },
  {
   "cell_type": "code",
   "execution_count": 18,
   "id": "1dbfbd5b",
   "metadata": {},
   "outputs": [],
   "source": [
    "pvalue = []\n",
    "\n",
    "pvalue.append(ttest_rel(angle[0],angle[1])[1])\n",
    "pvalue.append(ttest_rel(length[0],length[1])[1])\n",
    "pvalue.append(scipy.stats.wilcoxon(dists[0], dists[1], zero_method='wilcox', correction=False)[1])\n",
    "pvalue.append(scipy.stats.wilcoxon(all_num_conn[0], all_num_conn[1], zero_method='wilcox', correction=False)[1])\n",
    "pvalue.append(ttest_rel(all_total_winding[0],all_total_winding[1])[1])\n",
    "pvalue.append(ttest_rel(all_average_curv[0],all_average_curv[1])[1])"
   ]
  },
  {
   "cell_type": "code",
   "execution_count": 19,
   "id": "6e9838ae",
   "metadata": {},
   "outputs": [],
   "source": [
    "with open('control_pvalue.dat', 'w') as f:\n",
    "    json.dump(pvalue, f)"
   ]
  },
  {
   "cell_type": "code",
   "execution_count": 20,
   "id": "52eab1ac",
   "metadata": {},
   "outputs": [
    {
     "data": {
      "text/plain": [
       "[0.07685075846460883,\n",
       " 0.2558432465085566,\n",
       " 0.1814111579693004,\n",
       " 0.23888830891117097,\n",
       " 0.08559811407635104,\n",
       " 0.985704725471767]"
      ]
     },
     "execution_count": 20,
     "metadata": {},
     "output_type": "execute_result"
    }
   ],
   "source": [
    "pvalue"
   ]
  },
  {
   "cell_type": "code",
   "execution_count": null,
   "id": "8748774f",
   "metadata": {},
   "outputs": [],
   "source": []
  }
 ],
 "metadata": {
  "kernelspec": {
   "display_name": "Python 3 (ipykernel)",
   "language": "python",
   "name": "python3"
  },
  "language_info": {
   "codemirror_mode": {
    "name": "ipython",
    "version": 3
   },
   "file_extension": ".py",
   "mimetype": "text/x-python",
   "name": "python",
   "nbconvert_exporter": "python",
   "pygments_lexer": "ipython3",
   "version": "3.8.16"
  }
 },
 "nbformat": 4,
 "nbformat_minor": 5
}

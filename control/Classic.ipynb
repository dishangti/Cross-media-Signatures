{
 "cells": [
  {
   "cell_type": "code",
   "execution_count": 1,
   "id": "526dd9f8",
   "metadata": {},
   "outputs": [],
   "source": [
    "import numpy as np\n",
    "from scipy.special import comb\n",
    "from scipy.stats import ttest_rel\n",
    "import cv2\n",
    "import numpy as np\n",
    "import matplotlib.pyplot as plt\n",
    "from math import sqrt\n",
    "from math import floor\n",
    "import json"
   ]
  },
  {
   "cell_type": "code",
   "execution_count": 2,
   "id": "39a01944",
   "metadata": {},
   "outputs": [],
   "source": [
    "plt.rcParams['font.sans-serif'] = 'Times New Roman'"
   ]
  },
  {
   "cell_type": "code",
   "execution_count": 3,
   "id": "f18a8bcd",
   "metadata": {},
   "outputs": [],
   "source": [
    "dires = [(-1, 0), (-1, -1), (0, -1), (1, -1), (1, 0), (1, 1), (0, 1), (-1, 1)]\n",
    "dires = [np.array(x) for x in dires]\n",
    "\n",
    "def dfs_length(mp, p):\n",
    "    mp[p[0]][p[1]] = 255\n",
    "    \n",
    "    length = 0\n",
    "    \n",
    "    for dire in dires:\n",
    "        new_p = p + dire\n",
    "        if new_p[0] >= 0 and new_p[0] < mp.shape[0] and new_p[1] >= 0 and new_p[1] < mp.shape[1] and mp[new_p[0]][new_p[1]] == 0:\n",
    "            length += np.linalg.norm(dire)\n",
    "            length += dfs_length(mp, new_p)\n",
    "    \n",
    "    return length\n",
    "\n",
    "def calc_length(mp, sig):\n",
    "    mp = mp.copy()\n",
    "    length = 0\n",
    "    for i in range(sig.shape[0]):\n",
    "        if mp[sig[i][0]][sig[i][1]] == 0:\n",
    "            length += dfs_length(mp, (sig[i][0], sig[i][1]))\n",
    "    return length\n",
    "\n",
    "def calc_area(mp):\n",
    "    cnt_y, cnt_x = np.nonzero(255 - im)\n",
    "    return len(cnt_y)"
   ]
  },
  {
   "cell_type": "code",
   "execution_count": 4,
   "id": "2dd30109",
   "metadata": {},
   "outputs": [
    {
     "name": "stdout",
     "output_type": "stream",
     "text": [
      "0% 1\n",
      "25% 2\n",
      "50% 3\n",
      "75% 4\n",
      "100% 5\n",
      "125% 6\n",
      "150% 7\n"
     ]
    }
   ],
   "source": [
    "rct_peri = []\n",
    "rct_a = []\n",
    "\n",
    "ang = [[],[]]\n",
    "length = [[],[]]\n",
    "\n",
    "for person in range(1, 8):\n",
    "    print(f'{round((person - 1) / 4 * 100)}%', person)\n",
    "    for pic in range(1, 21):\n",
    "        im = cv2.imread(f'./skel/{person}/{pic}.png', cv2.IMREAD_GRAYSCALE)\n",
    "\n",
    "        typ = (pic - 1) // 10\n",
    "        cnt_y, cnt_x = np.nonzero(255 - im)\n",
    "        cnt = np.dstack((cnt_y, cnt_x)).squeeze()\n",
    "        rect = cv2.minAreaRect(np.array(cnt))\n",
    "        box = cv2.boxPoints(rect)\n",
    "\n",
    "        box_y = box[:, 0]\n",
    "        box_x = box[:, 1]\n",
    "\n",
    "        d0 = np.linalg.norm(box[0] - box[1])\n",
    "        d1 = np.linalg.norm(box[1] - box[2])\n",
    "\n",
    "        if d0 < d1:\n",
    "            slope = -(box[1][0] - box[2][0]) / (box[1][1] - box[2][1])\n",
    "        else:\n",
    "            slope = -(box[1][0] - box[0][0]) / (box[1][1] - box[0][1])\n",
    "        plt.show()\n",
    "        ang[typ].append(np.arctan(slope)*180/np.pi)\n",
    "        rct_peri.append(2 * (d0 + d1))\n",
    "        rct_a.append(d0 * d1)\n",
    "\n",
    "        length[typ].append(calc_length(im, cnt) / rct_peri[-1])"
   ]
  },
  {
   "cell_type": "code",
   "execution_count": 5,
   "id": "b1b1a278",
   "metadata": {},
   "outputs": [
    {
     "data": {
      "text/plain": [
       "[[Ttest_relResult(statistic=1.0671313569779093, pvalue=0.289632073038585)]]"
      ]
     },
     "execution_count": 5,
     "metadata": {},
     "output_type": "execute_result"
    }
   ],
   "source": [
    "pvalue = [[]]\n",
    "for i in range(1):\n",
    "    pvalue[i].append(ttest_rel(ang[0],ang[i+1]))\n",
    "pvalue"
   ]
  },
  {
   "cell_type": "code",
   "execution_count": 6,
   "id": "199cb95d",
   "metadata": {},
   "outputs": [
    {
     "data": {
      "text/plain": [
       "[[Ttest_relResult(statistic=-1.4310193106986935, pvalue=0.15693831900287142)]]"
      ]
     },
     "execution_count": 6,
     "metadata": {},
     "output_type": "execute_result"
    }
   ],
   "source": [
    "pvalue = [[]]\n",
    "for i in range(1):\n",
    "    pvalue[i].append(ttest_rel(length[0],length[i+1]))\n",
    "pvalue"
   ]
  },
  {
   "cell_type": "code",
   "execution_count": 8,
   "id": "cdb365cd",
   "metadata": {},
   "outputs": [
    {
     "name": "stdout",
     "output_type": "stream",
     "text": [
      "0% 1\n",
      "25% 2\n",
      "50% 3\n",
      "75% 4\n",
      "100% 5\n",
      "125% 6\n",
      "150% 7\n"
     ]
    }
   ],
   "source": [
    "dists = [[],[]]\n",
    "\n",
    "for person in range(1, 8):\n",
    "    print(f'{round((person - 1) / 4 * 100)}%', person)\n",
    "    for pic in range(1, 21):\n",
    "        im = cv2.imread(f'./skel/{person}/{pic}.png', cv2.IMREAD_GRAYSCALE)\n",
    "\n",
    "        col = []\n",
    "        for j in range(im.shape[1]):\n",
    "            pix = (1 - (im[:, j] // 255)).sum()\n",
    "            col.append(pix)\n",
    "\n",
    "        typ = (pic - 1) // 10\n",
    "        if pic % 10 > 5:\n",
    "            supposed = 3\n",
    "        else:\n",
    "            supposed = 2\n",
    "\n",
    "        splits = []\n",
    "        start = 0\n",
    "        flag = False\n",
    "        for i in range(im.shape[1]):\n",
    "            if col[i] > 0 and not flag:\n",
    "                start = i\n",
    "                flag = True\n",
    "            elif col[i] == 0 and flag:\n",
    "                splits.append((start, i))\n",
    "                flag = False     \n",
    "\n",
    "        actual = len(splits)\n",
    "        for i in range(0, actual - supposed):\n",
    "            cnt = []\n",
    "            for i, sp in enumerate(splits):\n",
    "                cnt.append((np.sum(col[sp[0]:sp[1]]), i))\n",
    "            cnt.sort(key = lambda x: x[0])\n",
    "\n",
    "            idx = []\n",
    "            pos = cnt[0][1]\n",
    "            idx.append(pos)\n",
    "\n",
    "\n",
    "            dis1 = 224\n",
    "            dis2 = 224\n",
    "            if pos - 1 >= 0:\n",
    "                dis1 = splits[pos][0] - splits[pos - 1][1]\n",
    "            if pos + 1 < len(splits):\n",
    "                dis2 = splits[pos + 1][0] - splits[pos][1]\n",
    "            if dis1 > dis2:\n",
    "                splits[pos + 1] = (splits[pos][0], splits[pos + 1][1])\n",
    "            else:\n",
    "                splits[pos - 1] = (splits[pos - 1][0], splits[pos][1])\n",
    "\n",
    "            for i in reversed(idx):\n",
    "                splits.pop(i)\n",
    "\n",
    "        acutal = len(splits)\n",
    "        dist = []\n",
    "        for _ in range(0, supposed - actual): dist.append(0)\n",
    "        for i in range(len(splits) - 1):\n",
    "            dist.append(splits[i + 1][0] - splits[i][1])\n",
    "        dists[typ].append(np.array(dist).mean()/rct_peri[(person - 1) * 20 + pic - 1])"
   ]
  },
  {
   "cell_type": "code",
   "execution_count": 9,
   "id": "e9b3be5d",
   "metadata": {},
   "outputs": [
    {
     "data": {
      "text/plain": [
       "[[Ttest_relResult(statistic=1.5615000776974735, pvalue=0.12298098066107567)],\n",
       " []]"
      ]
     },
     "execution_count": 9,
     "metadata": {},
     "output_type": "execute_result"
    }
   ],
   "source": [
    "pvalue = [[],[]]\n",
    "for i in range(1):\n",
    "    pvalue[i].append(ttest_rel(dists[0],dists[i+1]))\n",
    "pvalue"
   ]
  },
  {
   "cell_type": "code",
   "execution_count": 10,
   "id": "955c1a17",
   "metadata": {},
   "outputs": [],
   "source": [
    "# Save data\n",
    "with open('angle.dat', 'w') as f:\n",
    "    json.dump(ang, f)\n",
    "with open('length.dat', 'w') as f:\n",
    "    json.dump(length, f)\n",
    "with open('dist.dat', 'w') as f:\n",
    "    json.dump(dists, f)"
   ]
  },
  {
   "cell_type": "code",
   "execution_count": null,
   "id": "159bb22d",
   "metadata": {},
   "outputs": [],
   "source": []
  }
 ],
 "metadata": {
  "kernelspec": {
   "display_name": "Python 3 (ipykernel)",
   "language": "python",
   "name": "python3"
  },
  "language_info": {
   "codemirror_mode": {
    "name": "ipython",
    "version": 3
   },
   "file_extension": ".py",
   "mimetype": "text/x-python",
   "name": "python",
   "nbconvert_exporter": "python",
   "pygments_lexer": "ipython3",
   "version": "3.8.16"
  }
 },
 "nbformat": 4,
 "nbformat_minor": 5
}
